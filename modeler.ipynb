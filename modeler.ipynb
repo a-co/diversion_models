{
 "cells": [
  {
   "cell_type": "markdown",
   "metadata": {},
   "source": [
    "## Generating acquisition models"
   ]
  },
  {
   "cell_type": "code",
   "execution_count": 1,
   "metadata": {},
   "outputs": [],
   "source": [
    "import numpy as np\n",
    "import random\n",
    "import json"
   ]
  },
  {
   "cell_type": "markdown",
   "metadata": {},
   "source": [
    "Notes: \n",
    "control test produces a model that runs but no transactions after t = 8 :( \n",
    "    > increased max inventory capcacity for enrichment facility, solved this issue \n",
    "only traded commodity is c_uore\n",
    "   "
   ]
  },
  {
   "cell_type": "code",
   "execution_count": 2,
   "metadata": {},
   "outputs": [],
   "source": [
    "class Simulation: \n",
    "    \n",
    "    #diversion = True if random.randint(0,1) == 1 else False\n",
    "    \n",
    "    def __init__(self, control, archetypes, facility, region, recipe): \n",
    "        self.control = control\n",
    "        self.archetypes = {\"spec\": archetypes}\n",
    "        self.facility = facility\n",
    "        self.region = region\n",
    "        self.recipe = recipe \n",
    "    \n",
    "    def add_archetype(library, name):\n",
    "        self.archetypes.append({\"lib\": library, \"name\": name})\n",
    "        \n",
    "    def add_facility(name, config):\n",
    "        self.facility.append({\"name\": name, \"config\": config})\n",
    "        \n",
    "    def add_recipe(recipe): \n",
    "        self.recipe.append(recipe)\n",
    "    \n",
    "    def to_string(self):\n",
    "        out = \"simulation: \\n\"\n",
    "        out += \"control: \" + str(self.control) + \"\\n\"\n",
    "        out += \"archetypes: \" + str(self.archetypes) + \"\\n\"\n",
    "        out += \"facility: \" + str(self.facility) + \"\\n\"\n",
    "        out += \"region: \" + str(self.region) + \"\\n\"\n",
    "        out += \"recipe: \" + str(self.recipe) + \"\\n\"\n",
    "        return out\n",
    "    \n",
    "    def simulation(self):\n",
    "        sim = {\"simulation\": \n",
    "           {\"control\": self.control, \n",
    "            \"archetypes\": {\"spec\": self.archetypes}, \n",
    "            \"facility\": self.facility, \n",
    "            \"region\": self.region, \n",
    "            \"recipe\": self.recipe}}\n",
    "        return sim\n",
    "        \n",
    "    "
   ]
  },
  {
   "cell_type": "markdown",
   "metadata": {},
   "source": [
    "### Control"
   ]
  },
  {
   "cell_type": "code",
   "execution_count": 3,
   "metadata": {},
   "outputs": [],
   "source": [
    "#set default parameters for simulation \n",
    "default_control = {\"duration\": \"144\", \"startmonth\": \"1\", \"startyear\": \"2019\",\n",
    "                   \"decay\": \"never\", \"explicit_inventory\": \"true\"}\n",
    "default_archetypes = [{\"lib\": \"cycamore\",\"name\": \"Enrichment\"},\n",
    "                      {\"lib\": \"cycamore\",\"name\": \"Reactor\"}, \n",
    "                           {\"lib\": \"cycamore\",\"name\": \"Source\"},\n",
    "                           {\"lib\": \"cycamore\",\"name\": \"Sink\"},\n",
    "                           {\"lib\": \"agents\",\"name\": \"NullRegion\"},\n",
    "                           {\"lib\": \"agents\", \"name\": \"NullInst\"}]\n",
    "\n",
    "tp = random.gauss(10000, 10) #between 60 and 140 tons     \n",
    "l_swu = random.gauss(420000, 1000) \n",
    "l_maxfeed = 10000\n",
    "\n",
    "default_facilities = [\n",
    "        {\n",
    "            \"name\": \"UraniumMine\",\n",
    "            \"config\": {\n",
    "               \"Source\": {\n",
    "                  \"outcommod\": \"c_uore\",\n",
    "                  \"outrecipe\": \"r_nat_u\",\n",
    "                  \"throughput\": str(tp)\n",
    "               }\n",
    "            }\n",
    "         },\n",
    "        {\n",
    "            \"name\": \"LEUEnrichmentFacility\",\n",
    "            \"config\": {\n",
    "               \"Enrichment\": {\n",
    "                  \"feed_commod\": \"c_uore\",\n",
    "                  \"feed_recipe\": \"r_nat_u\",\n",
    "                  \"product_commod\": \"c_leu\",\n",
    "                  \"tails_commod\": \"c_spent_leu\",\n",
    "                  \"swu_capacity\": \"100000\", #str(l_swu),\n",
    "                  \"max_feed_inventory\": str(l_maxfeed),\n",
    "                  \"max_enrich\": \"0.041\",\n",
    "                  \"initial_feed\": \"0\"\n",
    "               }\n",
    "            }\n",
    "         },\n",
    "        {\n",
    "            \"name\": \"LWR\",\n",
    "            \"config\": {\"Reactor\": {\n",
    "                  \"fuel_incommods\": {\"val\": \"c_leu\"},\n",
    "                  \"fuel_inrecipes\": {\"val\": \"r_leu\"}, \n",
    "                  \"fuel_outcommods\": {\"val\": \"c_spent_leu\"},\n",
    "                  \"fuel_outrecipes\": {\"val\": \"r_leu_spent\"}, \n",
    "                  \"cycle_time\": \"18\",\n",
    "                  \"refuel_time\": \"1\",\n",
    "                  \"assem_size\": \"295\",\n",
    "                  \"n_assem_core\": \"3\",\n",
    "                  \"n_assem_batch\": \"1\",\n",
    "                  \"power_cap\": \"90\" ,\n",
    "               }\n",
    "               }}, \n",
    "        {\n",
    "            \"name\": \"SpentFuelSink\",\n",
    "            \"config\": {\n",
    "               \"Sink\": {\n",
    "                  \"in_commods\": {\n",
    "                     \"val\": \"c_spent_leu\"\n",
    "                  }\n",
    "               }\n",
    "            }\n",
    "         }\n",
    "            ]\n",
    "\n",
    "def set_institution(facilities):\n",
    "    institution = {\"name\": \"inst\", \"initialfacilitylist\": {\"entry\": []},\n",
    "                   \"config\": {\"NullInst\": None}}\n",
    "    for facility in facilities:\n",
    "        institution[\"initialfacilitylist\"][\"entry\"].append(\n",
    "            {\"number\": 1, \"prototype\": facility[\"name\"]}\n",
    "        )    \n",
    "    return institution\n",
    "\n",
    "default_region = {\"name\": \"MyRegion\", \"config\": {\"NullRegion\": None}, \"institution\": set_institution(default_facilities)}\n",
    "default_recipes = [{\"name\": \"r_nat_u\", \"basis\": \"mass\",\n",
    "                         \"nuclide\": [{\"id\": \"92235\", \"comp\": \"0.00711\"},\n",
    "                                     {\"id\": \"92238\", \"comp\": \"0.99289\"}]},\n",
    "                        {\"name\": \"r_heu\", \"basis\": \"mass\",\n",
    "                         \"nuclide\": [{\"id\": \"92235\", \"comp\": \"0.9\"},\n",
    "                                     {\"id\": \"92238\", \"comp\": \"0.1\"}]},\n",
    "                        {\"name\": \"r_leu\", \"basis\": \"mass\",\n",
    "                         \"nuclide\": [{\"id\": \"92235\",\"comp\": \"0.04\"},\n",
    "                                     {\"id\": \"92238\", \"comp\": \"0.96\"}]},\n",
    "                    {\"name\": \"r_leu_spent\", \"basis\": \"mass\", \n",
    "                    \"nuclide\": [{\"id\": \"92235\", \"comp\": \"0.01\"},\n",
    "                                {\"id\": \"92238\", \"comp\": \"0.94\"},\n",
    "                                {\"id\": \"94239\", \"comp\": \"0.01\"},\n",
    "                                {\"id\": \"55135\", \"comp\": \"0.3\"}]}]"
   ]
  },
  {
   "cell_type": "code",
   "execution_count": 4,
   "metadata": {},
   "outputs": [],
   "source": [
    "def write_input(simulation, filename):\n",
    "    with open (filename, \"w\") as outfile:\n",
    "        text = \"simulation = \" + str(simulation)\n",
    "        outfile.write(text)\n",
    "    outfile.close\n",
    "    \n",
    "def write_json(simulation, filename):\n",
    "    with open (filename, 'w') as writeout:\n",
    "        json.dump(simulation, writeout)"
   ]
  },
  {
   "cell_type": "code",
   "execution_count": null,
   "metadata": {},
   "outputs": [],
   "source": []
  },
  {
   "cell_type": "code",
   "execution_count": 5,
   "metadata": {},
   "outputs": [
    {
     "name": "stdout",
     "output_type": "stream",
     "text": [
      "simulation: \n",
      "control: {'duration': '144', 'startmonth': '1', 'startyear': '2019', 'decay': 'never', 'explicit_inventory': 'true'}\n",
      "archetypes: {'spec': [{'lib': 'cycamore', 'name': 'Enrichment'}, {'lib': 'cycamore', 'name': 'Reactor'}, {'lib': 'cycamore', 'name': 'Source'}, {'lib': 'cycamore', 'name': 'Sink'}, {'lib': 'agents', 'name': 'NullRegion'}, {'lib': 'agents', 'name': 'NullInst'}]}\n",
      "facility: [{'name': 'UraniumMine', 'config': {'Source': {'outcommod': 'c_uore', 'outrecipe': 'r_nat_u', 'throughput': '10004.760517492017'}}}, {'name': 'LEUEnrichmentFacility', 'config': {'Enrichment': {'feed_commod': 'c_uore', 'feed_recipe': 'r_nat_u', 'product_commod': 'c_leu', 'tails_commod': 'c_spent_leu', 'swu_capacity': '100000', 'max_feed_inventory': '10000', 'max_enrich': '0.041', 'initial_feed': '0'}}}, {'name': 'LWR', 'config': {'Reactor': {'fuel_incommods': {'val': 'c_leu'}, 'fuel_inrecipes': {'val': 'r_leu'}, 'fuel_outcommods': {'val': 'c_spent_leu'}, 'fuel_outrecipes': {'val': 'r_leu_spent'}, 'cycle_time': '18', 'refuel_time': '1', 'assem_size': '295', 'n_assem_core': '3', 'n_assem_batch': '1', 'power_cap': '90'}}}, {'name': 'SpentFuelSink', 'config': {'Sink': {'in_commods': {'val': 'c_spent_leu'}}}}]\n",
      "region: {'name': 'MyRegion', 'config': {'NullRegion': None}, 'institution': {'name': 'inst', 'initialfacilitylist': {'entry': [{'number': 1, 'prototype': 'UraniumMine'}, {'number': 1, 'prototype': 'LEUEnrichmentFacility'}, {'number': 1, 'prototype': 'LWR'}, {'number': 1, 'prototype': 'SpentFuelSink'}]}, 'config': {'NullInst': None}}}\n",
      "recipe: [{'name': 'r_nat_u', 'basis': 'mass', 'nuclide': [{'id': '92235', 'comp': '0.00711'}, {'id': '92238', 'comp': '0.99289'}]}, {'name': 'r_heu', 'basis': 'mass', 'nuclide': [{'id': '92235', 'comp': '0.9'}, {'id': '92238', 'comp': '0.1'}]}, {'name': 'r_leu', 'basis': 'mass', 'nuclide': [{'id': '92235', 'comp': '0.04'}, {'id': '92238', 'comp': '0.96'}]}, {'name': 'r_leu_spent', 'basis': 'mass', 'nuclide': [{'id': '92235', 'comp': '0.01'}, {'id': '92238', 'comp': '0.94'}, {'id': '94239', 'comp': '0.01'}, {'id': '55135', 'comp': '0.3'}]}]\n",
      "\n"
     ]
    }
   ],
   "source": [
    "default = Simulation(default_control, default_archetypes, default_facilities, default_region, default_recipes)\n",
    "#print(default.diversion)\n",
    "print(default.to_string())\n",
    "\n",
    "\n"
   ]
  },
  {
   "cell_type": "code",
   "execution_count": 6,
   "metadata": {},
   "outputs": [
    {
     "name": "stdout",
     "output_type": "stream",
     "text": [
      "{'control': {'duration': '144', 'startmonth': '1', 'startyear': '2019', 'decay': 'never', 'explicit_inventory': 'true'}, 'archetypes': {'spec': [{'lib': 'cycamore', 'name': 'Enrichment'}, {'lib': 'cycamore', 'name': 'Reactor'}, {'lib': 'cycamore', 'name': 'Source'}, {'lib': 'cycamore', 'name': 'Sink'}, {'lib': 'agents', 'name': 'NullRegion'}, {'lib': 'agents', 'name': 'NullInst'}]}, 'facility': [{'name': 'UraniumMine', 'config': {'Source': {'outcommod': 'c_uore', 'outrecipe': 'r_nat_u', 'throughput': '10004.760517492017'}}}, {'name': 'LEUEnrichmentFacility', 'config': {'Enrichment': {'feed_commod': 'c_uore', 'feed_recipe': 'r_nat_u', 'product_commod': 'c_leu', 'tails_commod': 'c_spent_leu', 'swu_capacity': '100000', 'max_feed_inventory': '10000', 'max_enrich': '0.041', 'initial_feed': '0'}}}, {'name': 'LWR', 'config': {'Reactor': {'fuel_incommods': {'val': 'c_leu'}, 'fuel_inrecipes': {'val': 'r_leu'}, 'fuel_outcommods': {'val': 'c_spent_leu'}, 'fuel_outrecipes': {'val': 'r_leu_spent'}, 'cycle_time': '18', 'refuel_time': '1', 'assem_size': '295', 'n_assem_core': '3', 'n_assem_batch': '1', 'power_cap': '90'}}}, {'name': 'SpentFuelSink', 'config': {'Sink': {'in_commods': {'val': 'c_spent_leu'}}}}], 'region': {'name': 'MyRegion', 'config': {'NullRegion': None}, 'institution': {'name': 'inst', 'initialfacilitylist': {'entry': [{'number': 1, 'prototype': 'UraniumMine'}, {'number': 1, 'prototype': 'LEUEnrichmentFacility'}, {'number': 1, 'prototype': 'LWR'}, {'number': 1, 'prototype': 'SpentFuelSink'}]}, 'config': {'NullInst': None}}}, 'recipe': [{'name': 'r_nat_u', 'basis': 'mass', 'nuclide': [{'id': '92235', 'comp': '0.00711'}, {'id': '92238', 'comp': '0.99289'}]}, {'name': 'r_heu', 'basis': 'mass', 'nuclide': [{'id': '92235', 'comp': '0.9'}, {'id': '92238', 'comp': '0.1'}]}, {'name': 'r_leu', 'basis': 'mass', 'nuclide': [{'id': '92235', 'comp': '0.04'}, {'id': '92238', 'comp': '0.96'}]}, {'name': 'r_leu_spent', 'basis': 'mass', 'nuclide': [{'id': '92235', 'comp': '0.01'}, {'id': '92238', 'comp': '0.94'}, {'id': '94239', 'comp': '0.01'}, {'id': '55135', 'comp': '0.3'}]}]}\n"
     ]
    }
   ],
   "source": [
    "test_control = write_input({\"simulation\": vars(default)}, \"control_test.py\")\n",
    "\n",
    "print(vars(default))"
   ]
  },
  {
   "cell_type": "code",
   "execution_count": 7,
   "metadata": {},
   "outputs": [],
   "source": [
    "import cymetric as cym\n",
    "import matplotlib.pyplot as plt\n",
    "plt.rcParams['figure.figsize'] = (40,24)\n",
    "from cymetric import graphs as cgr\n",
    "from cymetric import timeseries as tm\n",
    "from cymetric import filters as fl"
   ]
  },
  {
   "cell_type": "code",
   "execution_count": 8,
   "metadata": {},
   "outputs": [],
   "source": [
    "# file = \"test9.sqlite\"\n",
    "# db = cym.dbopen(file)\n",
    "# ev = cym.Evaluator(db=db, write=True)\n"
   ]
  },
  {
   "cell_type": "code",
   "execution_count": 9,
   "metadata": {},
   "outputs": [],
   "source": [
    "#cym.graphs.flow_graph(ev)"
   ]
  },
  {
   "cell_type": "markdown",
   "metadata": {},
   "source": [
    "### Hider"
   ]
  },
  {
   "cell_type": "markdown",
   "metadata": {},
   "source": [
    "The hider's objective is to acquire nuclear weapons before they are discovered. (South Africa, Iran, Iraq, North Korea) In this implementation, hiders divert as much nuclear material as they can within a given margin of error. "
   ]
  },
  {
   "cell_type": "code",
   "execution_count": 10,
   "metadata": {},
   "outputs": [],
   "source": [
    "h_new_fac = [{\n",
    "            \"name\": \"HEUenrich\",\n",
    "            \"config\": {\n",
    "               \"Enrichment\": {\n",
    "                  \"feed_commod\": \"c_uore\",\n",
    "                  \"feed_recipe\": \"r_nat_u\",\n",
    "                  \"product_commod\": \"c_heu\",\n",
    "                  \"tails_commod\": \"heu_tails\",\n",
    "                  \"swu_capacity\": str(l_swu),\n",
    "                  \"max_feed_inventory\": str(l_maxfeed),\n",
    "                  \"max_enrich\": \"0.9\",\n",
    "                  \"initial_feed\": \"0\"\n",
    "               }\n",
    "            }\n",
    "         },\n",
    "        {\n",
    "            \"name\": \"LEUtoHEUenrich\",\n",
    "            \"config\": {\n",
    "               \"Enrichment\": {\n",
    "                  \"feed_commod\": \"c_leu_spent\",\n",
    "                  \"feed_recipe\": \"r_leu_spent\",\n",
    "                  \"product_commod\": \"c_heu\",\n",
    "                  \"tails_commod\": \"c_heu_tails\",\n",
    "                  \"swu_capacity\": str(l_swu/2.),\n",
    "                  \"max_feed_inventory\": str(l_maxfeed),\n",
    "                  \"max_enrich\": \"0.9\",\n",
    "                  \"initial_feed\": \"0\"\n",
    "               }\n",
    "            }\n",
    "         },\n",
    "#             {\n",
    "#             \"name\": \"PuProcessing\",\n",
    "#             \"config\": {\n",
    "#                \"Separations\": {\n",
    "#                   \"feed_commod\": \"c_leu_spent\",\n",
    "#                   \"feed_recipe\": \"r_leu_spent\",\n",
    "#                   \"feedbuf_size\": \"1000\", \n",
    "#                   \"throughput\": \"8\", \n",
    "#                 \"streams\": {\n",
    "#                     \"item\": [{\n",
    "#                         \"commod\": \"c_pu\",\n",
    "#                         \"info\": {\n",
    "#                             \"buf_size\": \"100\",\n",
    "#                             \"efficiencies\": {\n",
    "#                                 \"item\": [{\"comp\": \"94239\", \"eff\": 0.8}]\n",
    "#                             }}}]}}}\n",
    "                    \n",
    "        \n",
    "#          },\n",
    "         \n",
    "    {\n",
    "            \"name\": \"HEUSink\",\n",
    "            \"config\": {\n",
    "               \"Sink\": {\n",
    "                  \"in_commods\": {\n",
    "                     \"val\": \"c_heu\"\n",
    "                  }\n",
    "               }\n",
    "            }\n",
    "         },         \n",
    "#     {\n",
    "#             \"name\": \"PuSink\",\n",
    "#             \"config\": {\n",
    "#                \"Sink\": {\n",
    "#                   \"in_commods\": {\n",
    "#                      \"val\": \"c_pu\"\n",
    "#                   }\n",
    "#                }\n",
    "#             }\n",
    "#          }\n",
    "    \n",
    "\n",
    "\n",
    "]\n",
    "hider_facilities = default_facilities + h_new_fac\n",
    "hider_archetypes = default_archetypes + [{\"lib\": \"cycamore\", \"name\": \"Reactor\"}, \n",
    "                                             {\"lib\": \"cycamore\", \"name\": \"Separations\"}]\n",
    "hider_region = {\"name\": \"MyRegion\", \"config\": {\"NullRegion\": None}, \"institution\": set_institution(hider_facilities)}\n",
    "\n",
    "\n",
    "#hider_recipes = default_recipes.extend(hider_new_recipes)"
   ]
  },
  {
   "cell_type": "code",
   "execution_count": 11,
   "metadata": {},
   "outputs": [],
   "source": [
    "def hider(cl, filename): \n",
    "    #manipulates input based on given confidence level cl\n",
    "    sim = Simulation(default_control, hider_archetypes, hider_facilities, hider_region, default_recipes)\n",
    "    #things to mutate: \n",
    "    #mine throughput\n",
    "    mine_throughput = float(sim.facility[0][\"config\"][\"Source\"][\"throughput\"])\n",
    "    new_throughput = (mine_throughput * cl) #what do do with excess? \n",
    "    extra_throughput = (mine_throughput * (1-cl))\n",
    "    sim.facility[0][\"config\"][\"Source\"][\"throughput\"] = new_throughput \n",
    "    sim.facility[4][\"config\"][\"Enrichment\"][\"max_feed_inventory\"] = extra_throughput\n",
    "    \n",
    "    #enrichment swus (we'll circle back to this)\n",
    "#     enrich_swu = float(sim.facilities[1][\"config\"][\"Enrichment\"][\"swu_capacity\"]) \n",
    "#     new_swu = (enrich_swu * cl)\n",
    "#     sim.facilities[1][\"config\"][\"Enrichment\"][\"swu_capacity\"] = new_swu\n",
    "    \n",
    "    #processing feedbuf size\n",
    "    #feedbuf_size = sim.facilities[6][\"config\"][\"Separations\"][\"feedbuf_size\"] = ?\n",
    "    #print(sim.to_string())\n",
    "    #print(vars(sim))\n",
    "    \n",
    "    sim_in = {\"simulation\": vars(sim)}\n",
    "    print(sim_in)\n",
    "    write_input(sim_in, filename)\n",
    "    return sim"
   ]
  },
  {
   "cell_type": "code",
   "execution_count": 12,
   "metadata": {
    "scrolled": true
   },
   "outputs": [],
   "source": [
    "#test_hider = hider(0.9, \"test_hider.py\")\n"
   ]
  },
  {
   "cell_type": "code",
   "execution_count": 13,
   "metadata": {},
   "outputs": [],
   "source": [
    "clean_sim = Simulation(default_control, hider_archetypes, hider_facilities, hider_region, default_recipes)\n",
    "clean_hider = {\"simulation\": vars(clean_sim)}\n",
    "write_input(clean_hider, \"clean_sim.py\")\n"
   ]
  },
  {
   "cell_type": "code",
   "execution_count": 14,
   "metadata": {},
   "outputs": [],
   "source": [
    "#print([fac for fac in default_facilities])\n",
    "#print(hider_facilities)\n",
    "#print (test_hider.to_string())"
   ]
  },
  {
   "cell_type": "code",
   "execution_count": 15,
   "metadata": {},
   "outputs": [],
   "source": [
    "hider_file = \"clean_test.sqlite\"\n",
    "db = cym.dbopen(hider_file)\n",
    "ev = cym.Evaluator(db=db, write=True)"
   ]
  },
  {
   "cell_type": "code",
   "execution_count": 16,
   "metadata": {},
   "outputs": [
    {
     "data": {
      "image/svg+xml": [
       "<?xml version=\"1.0\" encoding=\"UTF-8\" standalone=\"no\"?>\n",
       "<!DOCTYPE svg PUBLIC \"-//W3C//DTD SVG 1.1//EN\"\n",
       " \"http://www.w3.org/Graphics/SVG/1.1/DTD/svg11.dtd\">\n",
       "<!-- Generated by graphviz version 2.40.1 (20161225.0304)\n",
       " -->\n",
       "<!-- Title: G Pages: 1 -->\n",
       "<svg width=\"588pt\" height=\"260pt\"\n",
       " viewBox=\"0.00 0.00 588.44 260.00\" xmlns=\"http://www.w3.org/2000/svg\" xmlns:xlink=\"http://www.w3.org/1999/xlink\">\n",
       "<g id=\"graph0\" class=\"graph\" transform=\"scale(1 1) rotate(0) translate(4 256)\">\n",
       "<title>G</title>\n",
       "<polygon fill=\"#ffffff\" stroke=\"transparent\" points=\"-4,4 -4,-256 584.4382,-256 584.4382,4 -4,4\"/>\n",
       "<!-- MyRegion -->\n",
       "<g id=\"node1\" class=\"node\">\n",
       "<title>MyRegion</title>\n",
       "<ellipse fill=\"none\" stroke=\"#000000\" cx=\"47.9377\" cy=\"-234\" rx=\"47.8754\" ry=\"18\"/>\n",
       "<text text-anchor=\"middle\" x=\"47.9377\" y=\"-229.8\" font-family=\"Times,serif\" font-size=\"14.00\" fill=\"#000000\">MyRegion</text>\n",
       "</g>\n",
       "<!-- inst -->\n",
       "<g id=\"node2\" class=\"node\">\n",
       "<title>inst</title>\n",
       "<ellipse fill=\"none\" stroke=\"#000000\" cx=\"140.9377\" cy=\"-234\" rx=\"27\" ry=\"18\"/>\n",
       "<text text-anchor=\"middle\" x=\"140.9377\" y=\"-229.8\" font-family=\"Times,serif\" font-size=\"14.00\" fill=\"#000000\">inst</text>\n",
       "</g>\n",
       "<!-- UraniumMine -->\n",
       "<g id=\"node3\" class=\"node\">\n",
       "<title>UraniumMine</title>\n",
       "<ellipse fill=\"none\" stroke=\"#000000\" cx=\"245.9377\" cy=\"-234\" rx=\"60.4202\" ry=\"18\"/>\n",
       "<text text-anchor=\"middle\" x=\"245.9377\" y=\"-229.8\" font-family=\"Times,serif\" font-size=\"14.00\" fill=\"#000000\">UraniumMine</text>\n",
       "</g>\n",
       "<!-- LEUEnrichmentFacility -->\n",
       "<g id=\"node4\" class=\"node\">\n",
       "<title>LEUEnrichmentFacility</title>\n",
       "<ellipse fill=\"none\" stroke=\"#000000\" cx=\"163.9377\" cy=\"-162\" rx=\"95.6413\" ry=\"18\"/>\n",
       "<text text-anchor=\"middle\" x=\"163.9377\" y=\"-157.8\" font-family=\"Times,serif\" font-size=\"14.00\" fill=\"#000000\">LEUEnrichmentFacility</text>\n",
       "</g>\n",
       "<!-- UraniumMine&#45;&gt;LEUEnrichmentFacility -->\n",
       "<g id=\"edge2\" class=\"edge\">\n",
       "<title>UraniumMine&#45;&gt;LEUEnrichmentFacility</title>\n",
       "<path fill=\"none\" stroke=\"#000000\" d=\"M226.5048,-216.937C216.1151,-207.8144 203.1424,-196.4237 191.7075,-186.3833\"/>\n",
       "<polygon fill=\"#000000\" stroke=\"#000000\" points=\"193.9111,-183.6604 184.0874,-179.6924 189.2925,-188.9205 193.9111,-183.6604\"/>\n",
       "</g>\n",
       "<!-- HEUenrich -->\n",
       "<g id=\"node7\" class=\"node\">\n",
       "<title>HEUenrich</title>\n",
       "<ellipse fill=\"none\" stroke=\"#000000\" cx=\"327.9377\" cy=\"-162\" rx=\"50.2551\" ry=\"18\"/>\n",
       "<text text-anchor=\"middle\" x=\"327.9377\" y=\"-157.8\" font-family=\"Times,serif\" font-size=\"14.00\" fill=\"#000000\">HEUenrich</text>\n",
       "</g>\n",
       "<!-- UraniumMine&#45;&gt;HEUenrich -->\n",
       "<g id=\"edge1\" class=\"edge\">\n",
       "<title>UraniumMine&#45;&gt;HEUenrich</title>\n",
       "<path fill=\"none\" stroke=\"#000000\" d=\"M265.3705,-216.937C276.0681,-207.5441 289.504,-195.7467 301.1801,-185.4944\"/>\n",
       "<polygon fill=\"#000000\" stroke=\"#000000\" points=\"303.7221,-187.9202 308.9272,-178.6921 299.1034,-182.6601 303.7221,-187.9202\"/>\n",
       "</g>\n",
       "<!-- LWR -->\n",
       "<g id=\"node5\" class=\"node\">\n",
       "<title>LWR</title>\n",
       "<ellipse fill=\"none\" stroke=\"#000000\" cx=\"135.9377\" cy=\"-90\" rx=\"29.2046\" ry=\"18\"/>\n",
       "<text text-anchor=\"middle\" x=\"135.9377\" y=\"-85.8\" font-family=\"Times,serif\" font-size=\"14.00\" fill=\"#000000\">LWR</text>\n",
       "</g>\n",
       "<!-- LEUEnrichmentFacility&#45;&gt;LWR -->\n",
       "<g id=\"edge3\" class=\"edge\">\n",
       "<title>LEUEnrichmentFacility&#45;&gt;LWR</title>\n",
       "<path fill=\"none\" stroke=\"#000000\" d=\"M156.8721,-143.8314C153.7646,-135.8406 150.0473,-126.2819 146.6132,-117.4514\"/>\n",
       "<polygon fill=\"#000000\" stroke=\"#000000\" points=\"149.7906,-115.9649 142.904,-107.9134 143.2665,-118.502 149.7906,-115.9649\"/>\n",
       "</g>\n",
       "<!-- SpentFuelSink -->\n",
       "<g id=\"node6\" class=\"node\">\n",
       "<title>SpentFuelSink</title>\n",
       "<ellipse fill=\"none\" stroke=\"#000000\" cx=\"163.9377\" cy=\"-18\" rx=\"62.384\" ry=\"18\"/>\n",
       "<text text-anchor=\"middle\" x=\"163.9377\" y=\"-13.8\" font-family=\"Times,serif\" font-size=\"14.00\" fill=\"#000000\">SpentFuelSink</text>\n",
       "</g>\n",
       "<!-- LEUEnrichmentFacility&#45;&gt;SpentFuelSink -->\n",
       "<g id=\"edge4\" class=\"edge\">\n",
       "<title>LEUEnrichmentFacility&#45;&gt;SpentFuelSink</title>\n",
       "<path fill=\"none\" stroke=\"#000000\" d=\"M168.2052,-143.6221C170.3997,-133.2314 172.8393,-119.963 173.9377,-108 175.4005,-92.067 175.4005,-87.933 173.9377,-72 173.1654,-63.5885 171.73,-54.5317 170.183,-46.2836\"/>\n",
       "<polygon fill=\"#000000\" stroke=\"#000000\" points=\"173.5955,-45.499 168.2052,-36.3779 166.731,-46.8697 173.5955,-45.499\"/>\n",
       "</g>\n",
       "<!-- LWR&#45;&gt;SpentFuelSink -->\n",
       "<g id=\"edge5\" class=\"edge\">\n",
       "<title>LWR&#45;&gt;SpentFuelSink</title>\n",
       "<path fill=\"none\" stroke=\"#000000\" d=\"M142.859,-72.2022C145.9987,-64.1287 149.783,-54.3976 153.2736,-45.422\"/>\n",
       "<polygon fill=\"#000000\" stroke=\"#000000\" points=\"156.539,-46.6818 156.9015,-36.0931 150.0149,-44.1446 156.539,-46.6818\"/>\n",
       "</g>\n",
       "<!-- LEUtoHEUenrich -->\n",
       "<g id=\"node8\" class=\"node\">\n",
       "<title>LEUtoHEUenrich</title>\n",
       "<ellipse fill=\"none\" stroke=\"#000000\" cx=\"398.9377\" cy=\"-234\" rx=\"74.393\" ry=\"18\"/>\n",
       "<text text-anchor=\"middle\" x=\"398.9377\" y=\"-229.8\" font-family=\"Times,serif\" font-size=\"14.00\" fill=\"#000000\">LEUtoHEUenrich</text>\n",
       "</g>\n",
       "<!-- HEUSink -->\n",
       "<g id=\"node9\" class=\"node\">\n",
       "<title>HEUSink</title>\n",
       "<ellipse fill=\"none\" stroke=\"#000000\" cx=\"535.9377\" cy=\"-234\" rx=\"44.501\" ry=\"18\"/>\n",
       "<text text-anchor=\"middle\" x=\"535.9377\" y=\"-229.8\" font-family=\"Times,serif\" font-size=\"14.00\" fill=\"#000000\">HEUSink</text>\n",
       "</g>\n",
       "</g>\n",
       "</svg>\n"
      ],
      "text/plain": [
       "<graphviz.dot.Digraph at 0x125d68e80>"
      ]
     },
     "execution_count": 16,
     "metadata": {},
     "output_type": "execute_result"
    }
   ],
   "source": [
    "cym.graphs.flow_graph(ev)"
   ]
  },
  {
   "cell_type": "markdown",
   "metadata": {},
   "source": [
    "### Sprinter"
   ]
  },
  {
   "cell_type": "markdown",
   "metadata": {},
   "source": [
    "The sprinter's objective is to acquire nuclear weapons as quickly as possible. (United States, Soviet Union, United Kindom, India) In this implementation, sprinters start diverting all of their nuclear material after a given time step. "
   ]
  },
  {
   "cell_type": "code",
   "execution_count": null,
   "metadata": {},
   "outputs": [],
   "source": []
  },
  {
   "cell_type": "code",
   "execution_count": 17,
   "metadata": {},
   "outputs": [],
   "source": [
    "#show diagram using cymetric "
   ]
  },
  {
   "cell_type": "code",
   "execution_count": 18,
   "metadata": {},
   "outputs": [],
   "source": [
    "\n",
    "# def sprinter():\n",
    "#     t0 = random.randint(0,144)\n",
    "    "
   ]
  },
  {
   "cell_type": "code",
   "execution_count": null,
   "metadata": {},
   "outputs": [],
   "source": []
  },
  {
   "cell_type": "code",
   "execution_count": 19,
   "metadata": {},
   "outputs": [],
   "source": [
    "# #more_archetypes = default_archetypes.extend([{\"lib\": \"mbmore\", \"name\": \"RandomEnrich\"}, \n",
    "#                                              #{\"lib\": \"mbmore\", \"name\": \"RandomSink\"}])\n",
    "# default_heu = []\n",
    "# default_pu = []\n",
    "\n",
    "# def make_hider(moe, heu_facilities=default_heu, pu_facilities=default_pu, archetypes=more_archetypes):\n",
    "#     sim = Simulation(default_control, default_archetypes, default_facilities, default_region, default_recipies)\n",
    "#     print(sim.to_string())\n",
    "#     #extract throughput data\n",
    "#     mine_throughput = float(sim.facilities[0][\"config\"][\"Source\"][\"throughput\"])\n",
    "#     enrich_swu = float(sim.facilities[1][\"config\"][\"Enrichment\"][\"swu_capacity\"])    \n",
    "#     #manipulate\n",
    "#     new_throughput = (mine_throughput * moe)\n",
    "#     new_swu = (enrich_swu * moe)\n",
    "#     #mine_diverted = mine_throughput - new_throughput\n",
    "#     #enrich_diverted = enrich_swu - new_swu\n",
    "#     sim.facilities[0][\"config\"][\"Source\"][\"throughput\"] = new_throughput \n",
    "#     sim.facilities[1][\"config\"][\"Enrichment\"][\"swu_capacity\"] = new_swu\n",
    "#     print(sim.to_string())\n",
    "    \n",
    "    \n",
    "#     #sim.add_archetypes([arche for arche in more_archetypes])\n",
    "#     #sim.add_facility([fac for fac in heu_facilities])\n",
    "#     #sim.add_facility([fac for fac in pu_facilities])\n",
    "\n",
    "#     return sim\n",
    "\n",
    "# make_hider(0.95) "
   ]
  }
 ],
 "metadata": {
  "kernelspec": {
   "display_name": "Python 3",
   "language": "python",
   "name": "python3"
  },
  "language_info": {
   "codemirror_mode": {
    "name": "ipython",
    "version": 3
   },
   "file_extension": ".py",
   "mimetype": "text/x-python",
   "name": "python",
   "nbconvert_exporter": "python",
   "pygments_lexer": "ipython3",
   "version": "3.6.9"
  }
 },
 "nbformat": 4,
 "nbformat_minor": 2
}

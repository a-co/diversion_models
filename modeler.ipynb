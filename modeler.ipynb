{
 "cells": [
  {
   "cell_type": "markdown",
   "metadata": {},
   "source": [
    "## Generating acquisition models"
   ]
  },
  {
   "cell_type": "code",
   "execution_count": 1,
   "metadata": {},
   "outputs": [],
   "source": [
    "import numpy as np\n",
    "import random\n",
    "import json"
   ]
  },
  {
   "cell_type": "markdown",
   "metadata": {},
   "source": [
    "Notes: \n",
    "control test produces a model that runs but no transactions after t = 8 :( \n",
    "    > increased max inventory capcacity for enrichment facility, solved this issue \n",
    "only traded commodity is c_uore\n",
    "   "
   ]
  },
  {
   "cell_type": "code",
   "execution_count": 2,
   "metadata": {},
   "outputs": [],
   "source": [
    "class Simulation: \n",
    "    \n",
    "    #diversion = True if random.randint(0,1) == 1 else False\n",
    "    \n",
    "    def __init__(self, control, archetypes, facility, region, recipe): \n",
    "        self.control = control\n",
    "        self.archetypes = {\"spec\": archetypes}\n",
    "        self.facility = facility\n",
    "        self.region = region\n",
    "        self.recipe = recipe \n",
    "    \n",
    "    def add_archetype(library, name):\n",
    "        self.archetypes.append({\"lib\": library, \"name\": name})\n",
    "        \n",
    "    def add_facility(name, config):\n",
    "        self.facility.append({\"name\": name, \"config\": config})\n",
    "        \n",
    "    def add_recipe(recipe): \n",
    "        self.recipe.append(recipe)\n",
    "    \n",
    "    def to_string(self):\n",
    "        out = \"simulation: \\n\"\n",
    "        out += \"control: \" + str(self.control) + \"\\n\"\n",
    "        out += \"archetypes: \" + str(self.archetypes) + \"\\n\"\n",
    "        out += \"facility: \" + str(self.facility) + \"\\n\"\n",
    "        out += \"region: \" + str(self.region) + \"\\n\"\n",
    "        out += \"recipe: \" + str(self.recipe) + \"\\n\"\n",
    "        return out\n",
    "    \n",
    "    def simulation(self):\n",
    "        sim = {\"simulation\": \n",
    "           {\"control\": self.control, \n",
    "            \"archetypes\": {\"spec\": self.archetypes}, \n",
    "            \"facility\": self.facility, \n",
    "            \"region\": self.region, \n",
    "            \"recipe\": self.recipe}}\n",
    "        return sim\n",
    "        \n",
    "    "
   ]
  },
  {
   "cell_type": "markdown",
   "metadata": {},
   "source": [
    "### Control"
   ]
  },
  {
   "cell_type": "code",
   "execution_count": 3,
   "metadata": {},
   "outputs": [],
   "source": [
    "#set default parameters for simulation \n",
    "default_control = {\"duration\": \"144\", \"startmonth\": \"1\", \"startyear\": \"2019\",\n",
    "                   \"decay\": \"never\", \"explicit_inventory\": \"true\"}\n",
    "default_archetypes = [{\"lib\": \"cycamore\",\"name\": \"Enrichment\"},\n",
    "                      {\"lib\": \"cycamore\",\"name\": \"Reactor\"}, \n",
    "                           {\"lib\": \"cycamore\",\"name\": \"Source\"},\n",
    "                           {\"lib\": \"cycamore\",\"name\": \"Sink\"},\n",
    "                           {\"lib\": \"agents\",\"name\": \"NullRegion\"},\n",
    "                           {\"lib\": \"agents\", \"name\": \"NullInst\"}]\n",
    "\n",
    "tp = random.gauss(10000, 10) #between 60 and 140 tons     \n",
    "l_swu = random.gauss(420000, 1000) \n",
    "l_maxfeed = 10000\n",
    "\n",
    "default_facilities = [\n",
    "        {\n",
    "            \"name\": \"UraniumMine\",\n",
    "            \"config\": {\n",
    "               \"Source\": {\n",
    "                  \"outcommod\": \"c_uore\",\n",
    "                  \"outrecipe\": \"r_nat_u\",\n",
    "                  \"throughput\": str(tp)\n",
    "               }\n",
    "            }\n",
    "         },\n",
    "        {\n",
    "            \"name\": \"LEUEnrichmentFacility\",\n",
    "            \"config\": {\n",
    "               \"Enrichment\": {\n",
    "                  \"feed_commod\": \"c_uore\",\n",
    "                  \"feed_recipe\": \"r_nat_u\",\n",
    "                  \"product_commod\": \"c_leu\",\n",
    "                  \"tails_commod\": \"c_spent_leu\",\n",
    "                  \"swu_capacity\": \"100000\", #str(l_swu),\n",
    "                  \"max_feed_inventory\": str(l_maxfeed),\n",
    "                  \"max_enrich\": \"0.041\",\n",
    "                  \"initial_feed\": \"0\"\n",
    "               }\n",
    "            }\n",
    "         },\n",
    "        {\n",
    "            \"name\": \"LWR\",\n",
    "            \"config\": {\"Reactor\": {\n",
    "                  \"fuel_incommods\": {\"val\": \"c_leu\"},\n",
    "                  \"fuel_inrecipes\": {\"val\": \"r_leu\"}, \n",
    "                  \"fuel_outcommods\": {\"val\": \"c_spent_leu\"},\n",
    "                  \"fuel_outrecipes\": {\"val\": \"r_leu_spent\"}, \n",
    "                  \"cycle_time\": \"18\",\n",
    "                  \"refuel_time\": \"1\",\n",
    "                  \"assem_size\": \"295\",\n",
    "                  \"n_assem_core\": \"3\",\n",
    "                  \"n_assem_batch\": \"1\",\n",
    "                  \"power_cap\": \"90\" ,\n",
    "               }\n",
    "               }}, \n",
    "        {\n",
    "            \"name\": \"SpentFuelSink\",\n",
    "            \"config\": {\n",
    "               \"Sink\": {\n",
    "                  \"in_commods\": {\n",
    "                     \"val\": \"c_spent_leu\"\n",
    "                  }\n",
    "               }\n",
    "            }\n",
    "         }\n",
    "            ]\n",
    "\n",
    "def set_institution(facilities):\n",
    "    institution = {\"name\": \"inst\", \"initialfacilitylist\": {\"entry\": []},\n",
    "                   \"config\": {\"NullInst\": None}}\n",
    "    for facility in facilities:\n",
    "        institution[\"initialfacilitylist\"][\"entry\"].append(\n",
    "            {\"number\": 1, \"prototype\": facility[\"name\"]}\n",
    "        )    \n",
    "    return institution\n",
    "\n",
    "default_region = {\"name\": \"MyRegion\", \"config\": {\"NullRegion\": None}, \"institution\": set_institution(default_facilities)}\n",
    "default_recipes = [{\"name\": \"r_nat_u\", \"basis\": \"mass\",\n",
    "                         \"nuclide\": [{\"id\": \"92235\", \"comp\": \"0.00711\"},\n",
    "                                     {\"id\": \"92238\", \"comp\": \"0.99289\"}]},\n",
    "                        {\"name\": \"r_heu\", \"basis\": \"mass\",\n",
    "                         \"nuclide\": [{\"id\": \"92235\", \"comp\": \"0.9\"},\n",
    "                                     {\"id\": \"92238\", \"comp\": \"0.1\"}]},\n",
    "                        {\"name\": \"r_leu\", \"basis\": \"mass\",\n",
    "                         \"nuclide\": [{\"id\": \"92235\",\"comp\": \"0.04\"},\n",
    "                                     {\"id\": \"92238\", \"comp\": \"0.96\"}]},\n",
    "                    {\"name\": \"r_leu_spent\", \"basis\": \"mass\", \n",
    "                    \"nuclide\": [{\"id\": \"92235\", \"comp\": \"0.01\"},\n",
    "                                {\"id\": \"92238\", \"comp\": \"0.94\"},\n",
    "                                {\"id\": \"94239\", \"comp\": \"0.01\"},\n",
    "                                {\"id\": \"55135\", \"comp\": \"0.3\"}]}]"
   ]
  },
  {
   "cell_type": "code",
   "execution_count": 4,
   "metadata": {},
   "outputs": [],
   "source": [
    "def write_input(simulation, filename):\n",
    "    with open (filename, \"w\") as outfile:\n",
    "        text = \"simulation = \" + str(simulation)\n",
    "        outfile.write(text)\n",
    "    outfile.close\n",
    "    \n",
    "def write_json(simulation, filename):\n",
    "    with open (filename, 'w') as writeout:\n",
    "        json.dump(simulation, writeout)"
   ]
  },
  {
   "cell_type": "code",
   "execution_count": null,
   "metadata": {},
   "outputs": [],
   "source": []
  },
  {
   "cell_type": "code",
   "execution_count": 5,
   "metadata": {},
   "outputs": [
    {
     "name": "stdout",
     "output_type": "stream",
     "text": [
      "simulation: \n",
      "control: {'duration': '144', 'startmonth': '1', 'startyear': '2019', 'decay': 'never', 'explicit_inventory': 'true'}\n",
      "archetypes: {'spec': [{'lib': 'cycamore', 'name': 'Enrichment'}, {'lib': 'cycamore', 'name': 'Reactor'}, {'lib': 'cycamore', 'name': 'Source'}, {'lib': 'cycamore', 'name': 'Sink'}, {'lib': 'agents', 'name': 'NullRegion'}, {'lib': 'agents', 'name': 'NullInst'}]}\n",
      "facility: [{'name': 'UraniumMine', 'config': {'Source': {'outcommod': 'c_uore', 'outrecipe': 'r_nat_u', 'throughput': '10006.469906504619'}}}, {'name': 'LEUEnrichmentFacility', 'config': {'Enrichment': {'feed_commod': 'c_uore', 'feed_recipe': 'r_nat_u', 'product_commod': 'c_leu', 'tails_commod': 'c_spent_leu', 'swu_capacity': '100000', 'max_feed_inventory': '10000', 'max_enrich': '0.041', 'initial_feed': '0'}}}, {'name': 'LWR', 'config': {'Reactor': {'fuel_incommods': {'val': 'c_leu'}, 'fuel_inrecipes': {'val': 'r_leu'}, 'fuel_outcommods': {'val': 'c_spent_leu'}, 'fuel_outrecipes': {'val': 'r_leu_spent'}, 'cycle_time': '18', 'refuel_time': '1', 'assem_size': '295', 'n_assem_core': '3', 'n_assem_batch': '1', 'power_cap': '90'}}}, {'name': 'SpentFuelSink', 'config': {'Sink': {'in_commods': {'val': 'c_spent_leu'}}}}]\n",
      "region: {'name': 'MyRegion', 'config': {'NullRegion': None}, 'institution': {'name': 'inst', 'initialfacilitylist': {'entry': [{'number': 1, 'prototype': 'UraniumMine'}, {'number': 1, 'prototype': 'LEUEnrichmentFacility'}, {'number': 1, 'prototype': 'LWR'}, {'number': 1, 'prototype': 'SpentFuelSink'}]}, 'config': {'NullInst': None}}}\n",
      "recipe: [{'name': 'r_nat_u', 'basis': 'mass', 'nuclide': [{'id': '92235', 'comp': '0.00711'}, {'id': '92238', 'comp': '0.99289'}]}, {'name': 'r_heu', 'basis': 'mass', 'nuclide': [{'id': '92235', 'comp': '0.9'}, {'id': '92238', 'comp': '0.1'}]}, {'name': 'r_leu', 'basis': 'mass', 'nuclide': [{'id': '92235', 'comp': '0.04'}, {'id': '92238', 'comp': '0.96'}]}, {'name': 'r_leu_spent', 'basis': 'mass', 'nuclide': [{'id': '92235', 'comp': '0.01'}, {'id': '92238', 'comp': '0.94'}, {'id': '94239', 'comp': '0.01'}, {'id': '55135', 'comp': '0.3'}]}]\n",
      "\n"
     ]
    }
   ],
   "source": [
    "default = Simulation(default_control, default_archetypes, default_facilities, default_region, default_recipes)\n",
    "#print(default.diversion)\n",
    "print(default.to_string())\n",
    "\n",
    "\n"
   ]
  },
  {
   "cell_type": "code",
   "execution_count": 6,
   "metadata": {},
   "outputs": [
    {
     "name": "stdout",
     "output_type": "stream",
     "text": [
      "{'control': {'duration': '144', 'startmonth': '1', 'startyear': '2019', 'decay': 'never', 'explicit_inventory': 'true'}, 'archetypes': {'spec': [{'lib': 'cycamore', 'name': 'Enrichment'}, {'lib': 'cycamore', 'name': 'Reactor'}, {'lib': 'cycamore', 'name': 'Source'}, {'lib': 'cycamore', 'name': 'Sink'}, {'lib': 'agents', 'name': 'NullRegion'}, {'lib': 'agents', 'name': 'NullInst'}]}, 'facility': [{'name': 'UraniumMine', 'config': {'Source': {'outcommod': 'c_uore', 'outrecipe': 'r_nat_u', 'throughput': '10006.469906504619'}}}, {'name': 'LEUEnrichmentFacility', 'config': {'Enrichment': {'feed_commod': 'c_uore', 'feed_recipe': 'r_nat_u', 'product_commod': 'c_leu', 'tails_commod': 'c_spent_leu', 'swu_capacity': '100000', 'max_feed_inventory': '10000', 'max_enrich': '0.041', 'initial_feed': '0'}}}, {'name': 'LWR', 'config': {'Reactor': {'fuel_incommods': {'val': 'c_leu'}, 'fuel_inrecipes': {'val': 'r_leu'}, 'fuel_outcommods': {'val': 'c_spent_leu'}, 'fuel_outrecipes': {'val': 'r_leu_spent'}, 'cycle_time': '18', 'refuel_time': '1', 'assem_size': '295', 'n_assem_core': '3', 'n_assem_batch': '1', 'power_cap': '90'}}}, {'name': 'SpentFuelSink', 'config': {'Sink': {'in_commods': {'val': 'c_spent_leu'}}}}], 'region': {'name': 'MyRegion', 'config': {'NullRegion': None}, 'institution': {'name': 'inst', 'initialfacilitylist': {'entry': [{'number': 1, 'prototype': 'UraniumMine'}, {'number': 1, 'prototype': 'LEUEnrichmentFacility'}, {'number': 1, 'prototype': 'LWR'}, {'number': 1, 'prototype': 'SpentFuelSink'}]}, 'config': {'NullInst': None}}}, 'recipe': [{'name': 'r_nat_u', 'basis': 'mass', 'nuclide': [{'id': '92235', 'comp': '0.00711'}, {'id': '92238', 'comp': '0.99289'}]}, {'name': 'r_heu', 'basis': 'mass', 'nuclide': [{'id': '92235', 'comp': '0.9'}, {'id': '92238', 'comp': '0.1'}]}, {'name': 'r_leu', 'basis': 'mass', 'nuclide': [{'id': '92235', 'comp': '0.04'}, {'id': '92238', 'comp': '0.96'}]}, {'name': 'r_leu_spent', 'basis': 'mass', 'nuclide': [{'id': '92235', 'comp': '0.01'}, {'id': '92238', 'comp': '0.94'}, {'id': '94239', 'comp': '0.01'}, {'id': '55135', 'comp': '0.3'}]}]}\n"
     ]
    }
   ],
   "source": [
    "test_control = write_input({\"simulation\": vars(default)}, \"control_test.py\")\n",
    "\n",
    "print(vars(default))"
   ]
  },
  {
   "cell_type": "code",
   "execution_count": 7,
   "metadata": {},
   "outputs": [],
   "source": [
    "import cymetric as cym\n",
    "import matplotlib.pyplot as plt\n",
    "plt.rcParams['figure.figsize'] = (40,24)\n",
    "from cymetric import graphs as cgr\n",
    "from cymetric import timeseries as tm\n",
    "from cymetric import filters as fl"
   ]
  },
  {
   "cell_type": "code",
   "execution_count": 8,
   "metadata": {},
   "outputs": [],
   "source": [
    "# file = \"test9.sqlite\"\n",
    "# db = cym.dbopen(file)\n",
    "# ev = cym.Evaluator(db=db, write=True)\n"
   ]
  },
  {
   "cell_type": "code",
   "execution_count": 9,
   "metadata": {},
   "outputs": [],
   "source": [
    "#cym.graphs.flow_graph(ev)"
   ]
  },
  {
   "cell_type": "markdown",
   "metadata": {},
   "source": [
    "### Hider"
   ]
  },
  {
   "cell_type": "markdown",
   "metadata": {},
   "source": [
    "The hider's objective is to acquire nuclear weapons before they are discovered. (South Africa, Iran, Iraq, North Korea) In this implementation, hiders divert as much nuclear material as they can within a given margin of error. "
   ]
  },
  {
   "cell_type": "code",
   "execution_count": 10,
   "metadata": {},
   "outputs": [],
   "source": [
    "h_new_fac = [{\n",
    "            \"name\": \"HEUenrich\",\n",
    "            \"config\": {\n",
    "               \"Enrichment\": {\n",
    "                  \"feed_commod\": \"c_uore\",\n",
    "                  \"feed_recipe\": \"r_nat_u\",\n",
    "                  \"product_commod\": \"c_heu\",\n",
    "                  \"tails_commod\": \"heu_tails\",\n",
    "                  \"swu_capacity\": str(l_swu),\n",
    "                  \"max_feed_inventory\": str(l_maxfeed),\n",
    "                  \"max_enrich\": \"0.9\",\n",
    "                  \"initial_feed\": \"0\"\n",
    "               }\n",
    "            }\n",
    "         },\n",
    "        {\n",
    "            \"name\": \"LEUtoHEUenrich\",\n",
    "            \"config\": {\n",
    "               \"Enrichment\": {\n",
    "                  \"feed_commod\": \"c_leu_spent\",\n",
    "                  \"feed_recipe\": \"r_leu_spent\",\n",
    "                  \"product_commod\": \"c_heu\",\n",
    "                  \"tails_commod\": \"c_heu_tails\",\n",
    "                  \"swu_capacity\": str(l_swu/2.),\n",
    "                  \"max_feed_inventory\": str(l_maxfeed),\n",
    "                  \"max_enrich\": \"0.9\",\n",
    "                  \"initial_feed\": \"0\"\n",
    "               }\n",
    "            }\n",
    "         },\n",
    "#             {\n",
    "#             \"name\": \"PuProcessing\",\n",
    "#             \"config\": {\n",
    "#                \"Separations\": {\n",
    "#                   \"feed_commod\": \"c_leu_spent\",\n",
    "#                   \"feed_recipe\": \"r_leu_spent\",\n",
    "#                   \"feedbuf_size\": \"1000\", \n",
    "#                   \"throughput\": \"8\", \n",
    "#                 \"streams\": {\n",
    "#                     \"item\": [{\n",
    "#                         \"commod\": \"c_pu\",\n",
    "#                         \"info\": {\n",
    "#                             \"buf_size\": \"100\",\n",
    "#                             \"efficiencies\": {\n",
    "#                                 \"item\": [{\"comp\": \"94239\", \"eff\": 0.8}]\n",
    "#                             }}}]}}}\n",
    "                    \n",
    "        \n",
    "#          },\n",
    "         \n",
    "    {\n",
    "            \"name\": \"HEUSink\",\n",
    "            \"config\": {\n",
    "               \"Sink\": {\n",
    "                  \"in_commods\": {\n",
    "                     \"val\": \"c_heu\"\n",
    "                  }\n",
    "               }\n",
    "            }\n",
    "         },         \n",
    "#     {\n",
    "#             \"name\": \"PuSink\",\n",
    "#             \"config\": {\n",
    "#                \"Sink\": {\n",
    "#                   \"in_commods\": {\n",
    "#                      \"val\": \"c_pu\"\n",
    "#                   }\n",
    "#                }\n",
    "#             }\n",
    "#          }\n",
    "    \n",
    "\n",
    "\n",
    "]\n",
    "hider_facilities = default_facilities + h_new_fac\n",
    "hider_archetypes = default_archetypes + [{\"lib\": \"cycamore\", \"name\": \"Reactor\"}, \n",
    "                                             {\"lib\": \"cycamore\", \"name\": \"Separations\"}]\n",
    "hider_region = {\"name\": \"MyRegion\", \"config\": {\"NullRegion\": None}, \"institution\": set_institution(hider_facilities)}\n",
    "\n",
    "\n",
    "#hider_recipes = default_recipes.extend(hider_new_recipes)"
   ]
  },
  {
   "cell_type": "code",
   "execution_count": 11,
   "metadata": {},
   "outputs": [],
   "source": [
    "def hider(cl, filename): \n",
    "    #manipulates input based on given confidence level cl\n",
    "    sim = Simulation(default_control, hider_archetypes, hider_facilities, hider_region, default_recipes)\n",
    "    #things to mutate: \n",
    "    #mine throughput\n",
    "    mine_throughput = float(sim.facility[0][\"config\"][\"Source\"][\"throughput\"])\n",
    "    new_throughput = (mine_throughput * cl) #what do do with excess? \n",
    "    extra_throughput = (mine_throughput * (1-cl))\n",
    "    sim.facility[0][\"config\"][\"Source\"][\"throughput\"] = new_throughput \n",
    "    sim.facility[4][\"config\"][\"Enrichment\"][\"max_feed_inventory\"] = extra_throughput\n",
    "    \n",
    "    #enrichment swus (we'll circle back to this)\n",
    "#     enrich_swu = float(sim.facilities[1][\"config\"][\"Enrichment\"][\"swu_capacity\"]) \n",
    "#     new_swu = (enrich_swu * cl)\n",
    "#     sim.facilities[1][\"config\"][\"Enrichment\"][\"swu_capacity\"] = new_swu\n",
    "    \n",
    "    #processing feedbuf size\n",
    "    #feedbuf_size = sim.facilities[6][\"config\"][\"Separations\"][\"feedbuf_size\"] = ?\n",
    "    #print(sim.to_string())\n",
    "    #print(vars(sim))\n",
    "    \n",
    "    sim_in = {\"simulation\": vars(sim)}\n",
    "    print(sim_in)\n",
    "    write_input(sim_in, filename)\n",
    "    return sim"
   ]
  },
  {
   "cell_type": "code",
   "execution_count": 12,
   "metadata": {
    "scrolled": true
   },
   "outputs": [],
   "source": [
    "#test_hider = hider(0.9, \"test_hider.py\")\n"
   ]
  },
  {
   "cell_type": "code",
   "execution_count": 13,
   "metadata": {},
   "outputs": [],
   "source": [
    "clean_sim = Simulation(default_control, hider_archetypes, hider_facilities, hider_region, default_recipes)\n",
    "clean_hider = {\"simulation\": vars(clean_sim)}\n",
    "write_input(clean_hider, \"clean_sim.py\")\n"
   ]
  },
  {
   "cell_type": "code",
   "execution_count": 14,
   "metadata": {},
   "outputs": [],
   "source": [
    "#print([fac for fac in default_facilities])\n",
    "#print(hider_facilities)\n",
    "#print (test_hider.to_string())"
   ]
  },
  {
   "cell_type": "code",
   "execution_count": 15,
   "metadata": {},
   "outputs": [],
   "source": [
    "hider_file = \"0309base.sqlite\" #clean_test.sqlite\n",
    "db = cym.dbopen(hider_file)\n",
    "ev = cym.Evaluator(db=db, write=True)"
   ]
  },
  {
   "cell_type": "code",
   "execution_count": 16,
   "metadata": {},
   "outputs": [
    {
     "data": {
      "image/svg+xml": [
       "<?xml version=\"1.0\" encoding=\"UTF-8\" standalone=\"no\"?>\n",
       "<!DOCTYPE svg PUBLIC \"-//W3C//DTD SVG 1.1//EN\"\n",
       " \"http://www.w3.org/Graphics/SVG/1.1/DTD/svg11.dtd\">\n",
       "<!-- Generated by graphviz version 2.40.1 (20161225.0304)\n",
       " -->\n",
       "<!-- Title: G Pages: 1 -->\n",
       "<svg width=\"458pt\" height=\"260pt\"\n",
       " viewBox=\"0.00 0.00 458.29 260.00\" xmlns=\"http://www.w3.org/2000/svg\" xmlns:xlink=\"http://www.w3.org/1999/xlink\">\n",
       "<g id=\"graph0\" class=\"graph\" transform=\"scale(1 1) rotate(0) translate(4 256)\">\n",
       "<title>G</title>\n",
       "<polygon fill=\"#ffffff\" stroke=\"transparent\" points=\"-4,4 -4,-256 454.2924,-256 454.2924,4 -4,4\"/>\n",
       "<!-- SimpleHiderRegion -->\n",
       "<g id=\"node1\" class=\"node\">\n",
       "<title>SimpleHiderRegion</title>\n",
       "<ellipse fill=\"none\" stroke=\"#000000\" cx=\"80.8459\" cy=\"-234\" rx=\"80.6921\" ry=\"18\"/>\n",
       "<text text-anchor=\"middle\" x=\"80.8459\" y=\"-229.8\" font-family=\"Times,serif\" font-size=\"14.00\" fill=\"#000000\">SimpleHiderRegion</text>\n",
       "</g>\n",
       "<!-- inst -->\n",
       "<g id=\"node2\" class=\"node\">\n",
       "<title>inst</title>\n",
       "<ellipse fill=\"none\" stroke=\"#000000\" cx=\"206.8459\" cy=\"-234\" rx=\"27\" ry=\"18\"/>\n",
       "<text text-anchor=\"middle\" x=\"206.8459\" y=\"-229.8\" font-family=\"Times,serif\" font-size=\"14.00\" fill=\"#000000\">inst</text>\n",
       "</g>\n",
       "<!-- UraniumMine -->\n",
       "<g id=\"node3\" class=\"node\">\n",
       "<title>UraniumMine</title>\n",
       "<ellipse fill=\"none\" stroke=\"#000000\" cx=\"311.8459\" cy=\"-234\" rx=\"60.4202\" ry=\"18\"/>\n",
       "<text text-anchor=\"middle\" x=\"311.8459\" y=\"-229.8\" font-family=\"Times,serif\" font-size=\"14.00\" fill=\"#000000\">UraniumMine</text>\n",
       "</g>\n",
       "<!-- LEUenrich -->\n",
       "<g id=\"node4\" class=\"node\">\n",
       "<title>LEUenrich</title>\n",
       "<ellipse fill=\"none\" stroke=\"#000000\" cx=\"311.8459\" cy=\"-162\" rx=\"49.286\" ry=\"18\"/>\n",
       "<text text-anchor=\"middle\" x=\"311.8459\" y=\"-157.8\" font-family=\"Times,serif\" font-size=\"14.00\" fill=\"#000000\">LEUenrich</text>\n",
       "</g>\n",
       "<!-- UraniumMine&#45;&gt;LEUenrich -->\n",
       "<g id=\"edge2\" class=\"edge\">\n",
       "<title>UraniumMine&#45;&gt;LEUenrich</title>\n",
       "<path fill=\"none\" stroke=\"#000000\" d=\"M311.8459,-215.8314C311.8459,-208.131 311.8459,-198.9743 311.8459,-190.4166\"/>\n",
       "<polygon fill=\"#000000\" stroke=\"#000000\" points=\"315.346,-190.4132 311.8459,-180.4133 308.346,-190.4133 315.346,-190.4132\"/>\n",
       "</g>\n",
       "<!-- reactor -->\n",
       "<g id=\"node5\" class=\"node\">\n",
       "<title>reactor</title>\n",
       "<ellipse fill=\"none\" stroke=\"#000000\" cx=\"248.8459\" cy=\"-90\" rx=\"34.8024\" ry=\"18\"/>\n",
       "<text text-anchor=\"middle\" x=\"248.8459\" y=\"-85.8\" font-family=\"Times,serif\" font-size=\"14.00\" fill=\"#000000\">reactor</text>\n",
       "</g>\n",
       "<!-- LEUenrich&#45;&gt;reactor -->\n",
       "<g id=\"edge5\" class=\"edge\">\n",
       "<title>LEUenrich&#45;&gt;reactor</title>\n",
       "<path fill=\"none\" stroke=\"#000000\" d=\"M296.5954,-144.5708C288.6646,-135.5071 278.8415,-124.2807 270.1708,-114.3713\"/>\n",
       "<polygon fill=\"#000000\" stroke=\"#000000\" points=\"272.7413,-111.9939 263.5222,-106.7729 267.4733,-116.6035 272.7413,-111.9939\"/>\n",
       "</g>\n",
       "<!-- LEUtoHEUenrich -->\n",
       "<g id=\"node7\" class=\"node\">\n",
       "<title>LEUtoHEUenrich</title>\n",
       "<ellipse fill=\"none\" stroke=\"#000000\" cx=\"375.8459\" cy=\"-90\" rx=\"74.393\" ry=\"18\"/>\n",
       "<text text-anchor=\"middle\" x=\"375.8459\" y=\"-85.8\" font-family=\"Times,serif\" font-size=\"14.00\" fill=\"#000000\">LEUtoHEUenrich</text>\n",
       "</g>\n",
       "<!-- LEUenrich&#45;&gt;LEUtoHEUenrich -->\n",
       "<g id=\"edge3\" class=\"edge\">\n",
       "<title>LEUenrich&#45;&gt;LEUtoHEUenrich</title>\n",
       "<path fill=\"none\" stroke=\"#000000\" d=\"M327.3385,-144.5708C335.0842,-135.857 344.6067,-125.1441 353.1575,-115.5244\"/>\n",
       "<polygon fill=\"#000000\" stroke=\"#000000\" points=\"356.0236,-117.5683 360.0514,-107.7689 350.7917,-112.9177 356.0236,-117.5683\"/>\n",
       "</g>\n",
       "<!-- SpentFuelSink -->\n",
       "<g id=\"node6\" class=\"node\">\n",
       "<title>SpentFuelSink</title>\n",
       "<ellipse fill=\"none\" stroke=\"#000000\" cx=\"248.8459\" cy=\"-18\" rx=\"62.384\" ry=\"18\"/>\n",
       "<text text-anchor=\"middle\" x=\"248.8459\" y=\"-13.8\" font-family=\"Times,serif\" font-size=\"14.00\" fill=\"#000000\">SpentFuelSink</text>\n",
       "</g>\n",
       "<!-- reactor&#45;&gt;SpentFuelSink -->\n",
       "<g id=\"edge4\" class=\"edge\">\n",
       "<title>reactor&#45;&gt;SpentFuelSink</title>\n",
       "<path fill=\"none\" stroke=\"#000000\" d=\"M248.8459,-71.8314C248.8459,-64.131 248.8459,-54.9743 248.8459,-46.4166\"/>\n",
       "<polygon fill=\"#000000\" stroke=\"#000000\" points=\"252.346,-46.4132 248.8459,-36.4133 245.346,-46.4133 252.346,-46.4132\"/>\n",
       "</g>\n",
       "<!-- HEUSink -->\n",
       "<g id=\"node8\" class=\"node\">\n",
       "<title>HEUSink</title>\n",
       "<ellipse fill=\"none\" stroke=\"#000000\" cx=\"375.8459\" cy=\"-18\" rx=\"44.501\" ry=\"18\"/>\n",
       "<text text-anchor=\"middle\" x=\"375.8459\" y=\"-13.8\" font-family=\"Times,serif\" font-size=\"14.00\" fill=\"#000000\">HEUSink</text>\n",
       "</g>\n",
       "<!-- LEUtoHEUenrich&#45;&gt;HEUSink -->\n",
       "<g id=\"edge1\" class=\"edge\">\n",
       "<title>LEUtoHEUenrich&#45;&gt;HEUSink</title>\n",
       "<path fill=\"none\" stroke=\"#000000\" d=\"M375.8459,-71.8314C375.8459,-64.131 375.8459,-54.9743 375.8459,-46.4166\"/>\n",
       "<polygon fill=\"#000000\" stroke=\"#000000\" points=\"379.346,-46.4132 375.8459,-36.4133 372.346,-46.4133 379.346,-46.4132\"/>\n",
       "</g>\n",
       "</g>\n",
       "</svg>\n"
      ],
      "text/plain": [
       "<graphviz.dot.Digraph at 0x11d03be48>"
      ]
     },
     "execution_count": 16,
     "metadata": {},
     "output_type": "execute_result"
    }
   ],
   "source": [
    "cym.graphs.flow_graph(ev)"
   ]
  },
  {
   "cell_type": "markdown",
   "metadata": {},
   "source": [
    "### Sprinter"
   ]
  },
  {
   "cell_type": "markdown",
   "metadata": {},
   "source": [
    "The sprinter's objective is to acquire nuclear weapons as quickly as possible. (United States, Soviet Union, United Kindom, India) In this implementation, sprinters start diverting all of their nuclear material after a given time step. "
   ]
  },
  {
   "cell_type": "code",
   "execution_count": null,
   "metadata": {},
   "outputs": [],
   "source": []
  },
  {
   "cell_type": "code",
   "execution_count": 17,
   "metadata": {},
   "outputs": [],
   "source": [
    "#show diagram using cymetric "
   ]
  },
  {
   "cell_type": "code",
   "execution_count": 18,
   "metadata": {},
   "outputs": [],
   "source": [
    "\n",
    "# def sprinter():\n",
    "#     t0 = random.randint(0,144)\n",
    "    "
   ]
  },
  {
   "cell_type": "code",
   "execution_count": null,
   "metadata": {},
   "outputs": [],
   "source": []
  },
  {
   "cell_type": "code",
   "execution_count": 19,
   "metadata": {},
   "outputs": [],
   "source": [
    "# #more_archetypes = default_archetypes.extend([{\"lib\": \"mbmore\", \"name\": \"RandomEnrich\"}, \n",
    "#                                              #{\"lib\": \"mbmore\", \"name\": \"RandomSink\"}])\n",
    "# default_heu = []\n",
    "# default_pu = []\n",
    "\n",
    "# def make_hider(moe, heu_facilities=default_heu, pu_facilities=default_pu, archetypes=more_archetypes):\n",
    "#     sim = Simulation(default_control, default_archetypes, default_facilities, default_region, default_recipies)\n",
    "#     print(sim.to_string())\n",
    "#     #extract throughput data\n",
    "#     mine_throughput = float(sim.facilities[0][\"config\"][\"Source\"][\"throughput\"])\n",
    "#     enrich_swu = float(sim.facilities[1][\"config\"][\"Enrichment\"][\"swu_capacity\"])    \n",
    "#     #manipulate\n",
    "#     new_throughput = (mine_throughput * moe)\n",
    "#     new_swu = (enrich_swu * moe)\n",
    "#     #mine_diverted = mine_throughput - new_throughput\n",
    "#     #enrich_diverted = enrich_swu - new_swu\n",
    "#     sim.facilities[0][\"config\"][\"Source\"][\"throughput\"] = new_throughput \n",
    "#     sim.facilities[1][\"config\"][\"Enrichment\"][\"swu_capacity\"] = new_swu\n",
    "#     print(sim.to_string())\n",
    "    \n",
    "    \n",
    "#     #sim.add_archetypes([arche for arche in more_archetypes])\n",
    "#     #sim.add_facility([fac for fac in heu_facilities])\n",
    "#     #sim.add_facility([fac for fac in pu_facilities])\n",
    "\n",
    "#     return sim\n",
    "\n",
    "# make_hider(0.95) "
   ]
  }
 ],
 "metadata": {
  "kernelspec": {
   "display_name": "Python 3",
   "language": "python",
   "name": "python3"
  },
  "language_info": {
   "codemirror_mode": {
    "name": "ipython",
    "version": 3
   },
   "file_extension": ".py",
   "mimetype": "text/x-python",
   "name": "python",
   "nbconvert_exporter": "python",
   "pygments_lexer": "ipython3",
   "version": "3.6.9"
  }
 },
 "nbformat": 4,
 "nbformat_minor": 2
}

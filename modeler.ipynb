{
 "cells": [
  {
   "cell_type": "markdown",
   "metadata": {},
   "source": [
    "## Generating acquisition models"
   ]
  },
  {
   "cell_type": "code",
   "execution_count": 1,
   "metadata": {},
   "outputs": [],
   "source": [
    "import numpy as np\n",
    "import random\n"
   ]
  },
  {
   "cell_type": "code",
   "execution_count": 2,
   "metadata": {},
   "outputs": [],
   "source": [
    "class Simulation: \n",
    "    \n",
    "    diversion = True if random.randint(0,1) == 1 else False\n",
    "    \n",
    "    def __init__(self, control, archetypes, facilities, region, recipies): \n",
    "        self.control = control\n",
    "        self.archetypes = archetypes\n",
    "        self.facilities = facilities\n",
    "        self.region = region\n",
    "        self.recipies = recipies \n",
    "        \n",
    "#         if diversion == 1: \n",
    "#             facilities.append({\n",
    "#             \"name\": \"HEUEnrichmentFacility\",\n",
    "#             \"config\": {\n",
    "#                \"Enrichment\": {\n",
    "#                   \"feed_commod\": \"c_uore\",\n",
    "#                   \"feed_recipe\": \"r_nat_u\",\n",
    "#                   \"product_commod\": \"c_heu\",\n",
    "#                   \"tails_commod\": \"tails\",\n",
    "#                   \"swu_capacity\": str(h_swu),\n",
    "#                   \"max_feed_inventory\": str(h_maxfeed),\n",
    "#                   \"max_enrich\": \"0.9\"\n",
    "#                }\n",
    "#             }\n",
    "#          })\n",
    "#             facilities.append({\n",
    "#             \"name\": \"HEUSink\",\n",
    "#             \"config\": {\n",
    "#                \"Sink\": {\n",
    "#                   \"recipe_name\": \"r_heu\",\n",
    "#                   \"in_commods\": {\n",
    "#                      \"val\": \"c_heu\"\n",
    "#                   }\n",
    "#                }\n",
    "#             }\n",
    "#          })\n",
    "    \n",
    "    def add_archetype(library, name):\n",
    "        self.archetypes.append({\"lib\": library, \"name\": name})\n",
    "        \n",
    "    def add_facility(name, config):\n",
    "        self.facilities.append({\"name\": name, \"config\": config})\n",
    "        \n",
    "    def add_recipe(recipe): \n",
    "        self.recipes.append(recipe)\n",
    "    \n",
    "    def to_string(self):\n",
    "        out = \"simulation: \\n\"\n",
    "        out += \"control: \" + self.control + \"\\n\"\n",
    "        out += \"archetypes: \" + self.archetypes + \"\\n\"\n",
    "        out += \"facilities: \" + self.facilities + \"\\n\"\n",
    "        out += \"region: \" + self.region + \"\\n\"\n",
    "        out += \"recipies: \" + self.recipies + \"\\n\"\n",
    "        return out\n",
    "    \n",
    "    def simulation(self):\n",
    "        sim = {\"simulation\": \n",
    "           {\"control\": self.control, \n",
    "            \"archetypes\": {\"spec\": self.archetypes}, \n",
    "            \"facility\": self.facilities, \n",
    "            \"region\": self.region, \n",
    "            \"recipe\": self.recipes}}\n",
    "        return sim\n",
    "        \n",
    "    "
   ]
  },
  {
   "cell_type": "code",
   "execution_count": 5,
   "metadata": {},
   "outputs": [],
   "source": [
    "#set default parameters for simulation \n",
    "default_control = {\"duration\": \"144\", \"startmonth\": \"1\", \"startyear\": \"2019\",\n",
    "                   \"decay\": \"never\", \"explicit_inventory\": \"true\"}\n",
    "default_archetypes = [{\"lib\": \"cycamore\",\"name\": \"Enrichment\"},\n",
    "                           {\"lib\": \"cycamore\",\"name\": \"Source\"},\n",
    "                           {\"lib\": \"cycamore\",\"name\": \"Sink\"},\n",
    "                           {\"lib\": \"agents\",\"name\": \"NullRegion\"},\n",
    "                           {\"lib\": \"agents\", \"name\": \"NullInst\"}]\n",
    "\n",
    "tp = random.gauss(100, 35) #between 60 and 140 tons\n",
    "#swu calcs based on https://energyeducation.ca/encyclopedia/Separative_work_unit        \n",
    "l_swu = random.gauss(45, 10) #assuming research reactor enrichment\n",
    "h_swu = random.gauss(227, 10) #assuming weapons-grade enrichment\n",
    "l_maxfeed = 1000\n",
    "h_maxfeed = random.randrange(int(l_maxfeed)) #has to allow for fuel to be passed through leu facility by cyclus\n",
    "l_ifeed = random.sample([0, 25, 75, 100], k = 1)\n",
    "\n",
    "default_facilities = [\n",
    "        {\n",
    "            \"name\": \"UraniumMine\",\n",
    "            \"config\": {\n",
    "               \"Source\": {\n",
    "                  \"outcommod\": \"c_uore\",\n",
    "                  \"outrecipe\": \"r_nat_u\",\n",
    "                  \"throughput\": str(tp)\n",
    "               }\n",
    "            }\n",
    "         },\n",
    "        {\n",
    "            \"name\": \"LEUEnrichmentFacility\",\n",
    "            \"config\": {\n",
    "               \"Enrichment\": {\n",
    "                  \"feed_commod\": \"c_uore\",\n",
    "                  \"feed_recipe\": \"r_nat_u\",\n",
    "                  \"product_commod\": \"c_leu\",\n",
    "                  \"tails_commod\": \"tails\",\n",
    "                  \"swu_capacity\": str(l_swu),\n",
    "                  \"max_feed_inventory\": str(l_maxfeed),\n",
    "                  \"max_enrich\": \"0.04\",\n",
    "                  \"initial_feed\": str(l_ifeed[0])\n",
    "               }\n",
    "            }\n",
    "         },\n",
    "        {\n",
    "            \"name\": \"LEUSink\",\n",
    "            \"config\": {\n",
    "               \"Sink\": {\n",
    "                  \"recipe_name\": \"r_leu\",\n",
    "                  \"in_commods\": {\n",
    "                     \"val\": \"c_leu\"\n",
    "                  }\n",
    "               }\n",
    "            }\n",
    "         },\n",
    "        {\n",
    "            \"name\": \"tailSink\",\n",
    "            \"config\": {\n",
    "               \"Sink\": {\n",
    "                  \"in_commods\": {\n",
    "                     \"val\": \"tails\"\n",
    "                  }\n",
    "               }\n",
    "            }\n",
    "         }\n",
    "    ]\n",
    "\n",
    "def set_institution(facilities):\n",
    "    institution = {\"name\": \"inst\", \"initialfacilitylist\": {\"entry\": []},\n",
    "                   \"config\": {\"NullInst\": None}}\n",
    "    for facility in facilities:\n",
    "        institution[\"initialfacilitylist\"][\"entry\"].append(\n",
    "            {\"number\": 1, \"prototype\": facility[\"name\"]}\n",
    "        )    \n",
    "    return institution\n",
    "\n",
    "default_region = {\"name\": \"MyRegion\", \"config\": {\"NullRegion\": None}, \"institution\": set_institution(default_facilities)}\n",
    "default_recipies = [{\"name\": \"r_nat_u\", \"basis\": \"mass\",\n",
    "                         \"nuclide\": [{\"id\": \"92235\", \"comp\": \"0.00711\"},\n",
    "                                     {\"id\": \"92238\", \"comp\": \"0.99289\"}]},\n",
    "                        {\"name\": \"r_heu\", \"basis\": \"mass\",\n",
    "                         \"nuclide\": [{\"id\": \"92235\", \"comp\": \"0.9\"},\n",
    "                                     {\"id\": \"92238\", \"comp\": \"0.1\"}]},\n",
    "                        {\"name\": \"r_leu\", \"basis\": \"mass\",\n",
    "                         \"nuclide\": [{\"id\": \"92235\",\"comp\": \"0.04\"},\n",
    "                                     {\"id\": \"92238\", \"comp\": \"0.96\"}]}]"
   ]
  },
  {
   "cell_type": "markdown",
   "metadata": {},
   "source": [
    "### Hider"
   ]
  },
  {
   "cell_type": "markdown",
   "metadata": {},
   "source": [
    "The hider's objective is to acquire nuclear weapons before they are discovered. (South Africa, Iran, Iraq, North Korea) In this implementation, hiders divert as much nuclear material as they can within a given margin of error. "
   ]
  },
  {
   "cell_type": "code",
   "execution_count": null,
   "metadata": {},
   "outputs": [],
   "source": [
    "class Hider(Simulation):\n",
    "    def __init__(self, moe): \n",
    "        self.moe = moe\n",
    "        \n",
    "    #add facilities\n",
    "    #modify existing facilites? \n",
    "\n"
   ]
  },
  {
   "cell_type": "markdown",
   "metadata": {},
   "source": [
    "### Sprinter"
   ]
  },
  {
   "cell_type": "markdown",
   "metadata": {},
   "source": [
    "The sprinter's objective is to acquire nuclear weapons as quickly as possible. (United States, Soviet Union, United Kindom, India) In this implementation, sprinters start diverting all of their nuclear material after a given time step. "
   ]
  },
  {
   "cell_type": "code",
   "execution_count": null,
   "metadata": {},
   "outputs": [],
   "source": [
    "class Sprinter(Simulation): \n",
    "    #add random facilities\n",
    "    \n",
    "    pass\n"
   ]
  },
  {
   "cell_type": "code",
   "execution_count": null,
   "metadata": {},
   "outputs": [],
   "source": []
  }
 ],
 "metadata": {
  "kernelspec": {
   "display_name": "Python 3",
   "language": "python",
   "name": "python3"
  },
  "language_info": {
   "codemirror_mode": {
    "name": "ipython",
    "version": 3
   },
   "file_extension": ".py",
   "mimetype": "text/x-python",
   "name": "python",
   "nbconvert_exporter": "python",
   "pygments_lexer": "ipython3",
   "version": "3.6.9"
  }
 },
 "nbformat": 4,
 "nbformat_minor": 2
}
